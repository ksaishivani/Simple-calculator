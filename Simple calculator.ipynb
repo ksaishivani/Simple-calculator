{
  "nbformat": 4,
  "nbformat_minor": 0,
  "metadata": {
    "colab": {
      "provenance": [],
      "authorship_tag": "ABX9TyNsKYTev40fGGrRRjjOOUtM",
      "include_colab_link": true
    },
    "kernelspec": {
      "name": "python3",
      "display_name": "Python 3"
    },
    "language_info": {
      "name": "python"
    }
  },
  "cells": [
    {
      "cell_type": "markdown",
      "metadata": {
        "id": "view-in-github",
        "colab_type": "text"
      },
      "source": [
        "<a href=\"https://colab.research.google.com/github/ksaishivani/Simple-calculator/blob/main/Simple%20calculator.ipynb\" target=\"_parent\"><img src=\"https://colab.research.google.com/assets/colab-badge.svg\" alt=\"Open In Colab\"/></a>"
      ]
    },
    {
      "cell_type": "code",
      "execution_count": 2,
      "metadata": {
        "colab": {
          "base_uri": "https://localhost:8080/"
        },
        "id": "y_7-0wiZDhpf",
        "outputId": "f74cdb2e-6782-4617-e795-13e5068b4081"
      },
      "outputs": [
        {
          "output_type": "stream",
          "name": "stdout",
          "text": [
            "Simple Calculator\n",
            "Enter first number: 17\n",
            "Enter second number: 50\n",
            "Enter operation (+, -, *, /): *\n",
            "Result: 850.0\n"
          ]
        }
      ],
      "source": [
        "\n",
        "def add(a, b): return a + b\n",
        "def sub(a, b): return a - b\n",
        "def mul(a, b): return a * b\n",
        "def div(a, b): return a / b if b != 0 else \"Cannot divide by zero!\"\n",
        "\n",
        "print(\"Simple Calculator\")\n",
        "num1 = float(input(\"Enter first number: \"))\n",
        "num2 = float(input(\"Enter second number: \"))\n",
        "op = input(\"Enter operation (+, -, *, /): \")\n",
        "\n",
        "if op == \"+\":\n",
        "    print(\"Result:\", add(num1, num2))\n",
        "elif op == \"-\":\n",
        "    print(\"Result:\", sub(num1, num2))\n",
        "elif op == \"*\":\n",
        "    print(\"Result:\", mul(num1, num2))\n",
        "elif op == \"/\":\n",
        "    print(\"Result:\", div(num1, num2))\n",
        "else:\n",
        "    print(\"Invalid operation\")"
      ]
    }
  ]
}